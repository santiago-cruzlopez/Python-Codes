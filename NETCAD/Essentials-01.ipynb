{
 "cells": [
  {
   "cell_type": "markdown",
   "id": "56b4f537-fde7-446b-b8d4-e26ff2238d70",
   "metadata": {},
   "source": [
    "In 1937, a German mathematician named Lothar Collatz formulated an intriguing hypothesis (it still remains unproven) which can be described in the following way:\r\n",
    "\r\n",
    "take any non-negative and non-zero integer number and name it c0;\r\n",
    "if it's even, evaluate a new c0 as c0 ÷ 2;\r\n",
    "otherwise, if it's odd, evaluate a new c0 as 3 × c0 + 1;\r\n",
    "if c0 ≠ 1, go back to point 2.\r\n",
    "The hypothesis says that regardless of the initial value of c0, it will always go to 1.\r\n",
    "\r\n",
    "Of course, it's an extremely complex task to use a computer in order to prove the hypothesis for any natural number (it may even require artificial intelligence), but you can use Python to check some individual numbers. Maybe you'll even find the one which would disprove the hypothesis.\r\n",
    "\r\n",
    "Write a program which reads one natural number and executes the above steps as long as c0 remains different from 1. We also want you to count the steps needed to achieve the goal. Your code should output all the intermediate values of c0, too.\r\n",
    "\r\n",
    "Hint: the most important part of the problem is how to transform Collatz's idea into a while loop – this is the keye've provided."
   ]
  },
  {
   "cell_type": "code",
   "execution_count": 12,
   "id": "24d25d40-9740-4526-8b16-82c1f9940ad5",
   "metadata": {},
   "outputs": [
    {
     "name": "stdout",
     "output_type": "stream",
     "text": [
      "Prove that Lothar Collatz  is wrong!!!!\n"
     ]
    },
    {
     "name": "stdin",
     "output_type": "stream",
     "text": [
      "Enter a non- negative, non-zero integer:  5\n"
     ]
    },
    {
     "name": "stdout",
     "output_type": "stream",
     "text": [
      " New value is  16\n",
      " New value is  8\n",
      " New value is  4\n",
      " New value is  2\n",
      " New value is  1\n",
      "Total Steps:  5\n",
      "********************************************\n"
     ]
    }
   ],
   "source": [
    "print(\"Prove that Lothar Collatz  is wrong!!!!\")\n",
    "c0 = int(input('Enter a non- negative, non-zero integer: '))\n",
    "step = 0\n",
    "while c0 != 1:\n",
    "    if c0 % 2 == 0:\n",
    "        c0 //= 2\n",
    "        if c0 != 1:\n",
    "            step += 1\n",
    "            print(' New value is ', c0)\n",
    "            continue\n",
    "        elif c0 == 1:\n",
    "            step += 1\n",
    "            print(' New value is ', c0)\n",
    "            break\n",
    "    elif c0 % 2 == 1:\n",
    "        c0 = c0 * 3 + 1\n",
    "        if c0 != 1:\n",
    "            step += 1\n",
    "            print(' New value is ', c0)\n",
    "            continue\n",
    "\n",
    "print('Total Steps: ', step)\n",
    "print(\"*\"*44)"
   ]
  },
  {
   "cell_type": "markdown",
   "id": "677d8ae6-cc98-4879-a606-149bf629d17f",
   "metadata": {},
   "source": [
    "Question 1/2: Create a while/for loop that counts from 0 to 10, and prints odd numbers to the screen. Use the skeleton below:"
   ]
  },
  {
   "cell_type": "code",
   "execution_count": 3,
   "id": "6c81c340-57fc-4a3a-882b-f6e1d02907cd",
   "metadata": {},
   "outputs": [
    {
     "name": "stdout",
     "output_type": "stream",
     "text": [
      "2\n",
      "4\n",
      "6\n",
      "8\n",
      "10\n"
     ]
    }
   ],
   "source": [
    "x = 1\n",
    "while x < 11:\n",
    "    if x % 2 != 1:\n",
    "        print(x)\n",
    "    x += 1"
   ]
  },
  {
   "cell_type": "code",
   "execution_count": 5,
   "id": "13a00a4e-9f4a-46ff-bd81-ac3b91b13a60",
   "metadata": {},
   "outputs": [
    {
     "name": "stdout",
     "output_type": "stream",
     "text": [
      "0\n",
      "2\n",
      "4\n",
      "6\n",
      "8\n",
      "10\n"
     ]
    }
   ],
   "source": [
    "for i in range(0, 11):\n",
    "    if i % 2 != 1:\n",
    "        print(i)"
   ]
  },
  {
   "cell_type": "markdown",
   "id": "be449f01-ac4e-482f-8212-75c9db4775b3",
   "metadata": {},
   "source": [
    "Question 3: Create a program with a for loop and a break statement. The program should iterate over characters in an email address, exit the loop when it reaches the @ symbol, and print the part before @ on one line. Use the skeleton below:"
   ]
  },
  {
   "cell_type": "code",
   "execution_count": 7,
   "id": "d674f937-8945-44cc-a773-2916087fe720",
   "metadata": {},
   "outputs": [
    {
     "name": "stdout",
     "output_type": "stream",
     "text": [
      "john.smith"
     ]
    }
   ],
   "source": [
    "for ch in \"john.smith@pythoninstitute.org\":\n",
    "    if ch == \"@\":\n",
    "        break\n",
    "    print(ch, end=\"\")"
   ]
  },
  {
   "cell_type": "markdown",
   "id": "7164870c-5486-464a-8b8f-e53c40698744",
   "metadata": {},
   "source": [
    "Question 4: Create a program with a for loop and a continue statement. The program should iterate over a string of digits, replace each 0 with x, and print the modified string to the screen. Use the skeleton below:"
   ]
  },
  {
   "cell_type": "code",
   "execution_count": 9,
   "id": "f3990f27-d730-4651-aef5-d089b485c859",
   "metadata": {},
   "outputs": [
    {
     "name": "stdout",
     "output_type": "stream",
     "text": [
      "x165x318x651x"
     ]
    }
   ],
   "source": [
    "for digit in \"0165031806510\":\n",
    "    if digit == \"0\":\n",
    "        print(\"x\", end=\"\")\n",
    "        continue\n",
    "    print(digit, end=\"\")"
   ]
  },
  {
   "cell_type": "code",
   "execution_count": 1,
   "id": "e20db199-b873-40bc-a840-61ddc2b4737a",
   "metadata": {},
   "outputs": [
    {
     "name": "stdout",
     "output_type": "stream",
     "text": [
      "0 5 -5 1 1 16\n"
     ]
    }
   ],
   "source": [
    "x = 4\r\n",
    "y = 1\r\n",
    " \r\n",
    "a = x & y\r\n",
    "b = x | y\r\n",
    "c = ~x  # tricky!\r\n",
    "d = x ^ 5\r\n",
    "e = x >> 2\r\n",
    "f = x << 2\r\n",
    " \r\n",
    "print(a, b, c, d, e, f)"
   ]
  },
  {
   "cell_type": "markdown",
   "id": "bab41adc-d2a1-485e-8c3a-f935ddb3fdd5",
   "metadata": {},
   "source": [
    "INDEXING LISTS"
   ]
  },
  {
   "cell_type": "code",
   "execution_count": 3,
   "id": "99e6a68d-3c1c-4c88-abb5-9d75e6a93eec",
   "metadata": {},
   "outputs": [
    {
     "name": "stdout",
     "output_type": "stream",
     "text": [
      "Original list contents: [10, 5, 7, 2, 1]\n",
      "\n",
      "Previous list contents: [111, 5, 7, 2, 1]\n",
      "New list contents: [111, 1, 7, 2, 1]\n",
      "\n",
      "List length: 5\n"
     ]
    },
    {
     "name": "stdin",
     "output_type": "stream",
     "text": [
      "New number:  96\n"
     ]
    },
    {
     "name": "stdout",
     "output_type": "stream",
     "text": [
      "2\n",
      "New list's length: 4\n",
      "\n",
      "New list content: [111, 96, 2, 1]\n"
     ]
    }
   ],
   "source": [
    "numbers = [10, 5, 7, 2, 1]\n",
    "print(\"Original list contents:\", numbers)  # Printing original list contents.\n",
    " \n",
    "numbers[0] = 111\n",
    "print(\"\\nPrevious list contents:\", numbers)  # Printing previous list contents.\n",
    " \n",
    "numbers[1] = numbers[4]  # Copying value of the fifth element to the second.\n",
    "print(\"New list contents:\", numbers)  # Printing current list contents.\n",
    "\n",
    "print(\"\\nList length:\", len(numbers))  # Printing the list's length.\n",
    "\n",
    "# to replace the middle number with an integer number entered by the user.\n",
    "numbers[2] = int(input(\"New number: \"))\n",
    "###\n",
    "print(numbers[-2])\n",
    "\n",
    "del numbers[1]  # Removing the second element from the list.\n",
    "print(\"New list's length:\", len(numbers))  # Printing new list length.\n",
    "print(\"\\nNew list content:\", numbers)  # Printing current list content."
   ]
  },
  {
   "cell_type": "markdown",
   "id": "46825309-f3b3-4093-82da-1bad7ec11289",
   "metadata": {},
   "source": [
    "Adding elements to a list: append() and insert()\n",
    "\n",
    "- A new element may be glued to the end of the existing list: list.append(value)\n",
    "- The insert() method is a bit smarter ‒ it can add a new element at any place in the list, not only at the end:\n",
    "\n",
    "- list.insert(location, value)"
   ]
  },
  {
   "cell_type": "code",
   "execution_count": 17,
   "id": "dc89d634-48a5-4b0c-bb2e-5f4180ab3fc2",
   "metadata": {},
   "outputs": [
    {
     "name": "stdout",
     "output_type": "stream",
     "text": [
      "4\n",
      "[111, 7, 2, 1]\n",
      "5\n",
      "[111, 7, 2, 1, 4]\n",
      "7\n",
      "[222, 333, 111, 7, 2, 1, 4]\n"
     ]
    }
   ],
   "source": [
    "numbers = [111, 7, 2, 1]\n",
    "print(len(numbers))\n",
    "print(numbers)\n",
    "\n",
    "### Append\n",
    "\n",
    "numbers.append(4)\n",
    "print(len(numbers))\n",
    "print(numbers)\n",
    "\n",
    "### Insert\n",
    "\n",
    "numbers.insert(0, 222)\n",
    "numbers.insert(1, 333)\n",
    "print(len(numbers))\n",
    "print(numbers)"
   ]
  },
  {
   "cell_type": "code",
   "execution_count": 21,
   "id": "ebc287bb-85cf-4ba8-9087-b2e6df357959",
   "metadata": {},
   "outputs": [
    {
     "name": "stdout",
     "output_type": "stream",
     "text": [
      "[5, 4, 3, 2, 1]\n"
     ]
    }
   ],
   "source": [
    "my_list = []  # Creating an empty list.\n",
    "\n",
    "for i in range(5):\n",
    "    my_list.insert(0, i + 1)\n",
    "\n",
    "print(my_list)"
   ]
  },
  {
   "cell_type": "markdown",
   "id": "5ea2e4d6-24ff-4c11-8970-d74792a1f002",
   "metadata": {},
   "source": [
    "Let's assume that you want to calculate the sum of all the values stored in the my_list list"
   ]
  },
  {
   "cell_type": "code",
   "execution_count": 23,
   "id": "0987192d-972d-4e0d-bb21-73de05101631",
   "metadata": {},
   "outputs": [
    {
     "name": "stdout",
     "output_type": "stream",
     "text": [
      "27\n"
     ]
    }
   ],
   "source": [
    "my_list = [10, 1, 8, 3, 5]\n",
    "total = 0\n",
    "\n",
    "for i in range(len(my_list)):\n",
    "    total += my_list[i]\n",
    "\n",
    "print(total)"
   ]
  },
  {
   "cell_type": "code",
   "execution_count": 25,
   "id": "22b83246-b534-42d4-917f-599170d171e0",
   "metadata": {},
   "outputs": [
    {
     "name": "stdout",
     "output_type": "stream",
     "text": [
      "27\n"
     ]
    }
   ],
   "source": [
    "my_list = [10, 1, 8, 3, 5]\n",
    "total = 0\n",
    " \n",
    "for i in my_list:\n",
    "    total += i\n",
    " \n",
    "print(total)"
   ]
  },
  {
   "cell_type": "code",
   "execution_count": 45,
   "id": "e3a7f944-53d7-4cf5-9f9b-3ba085c3069f",
   "metadata": {},
   "outputs": [
    {
     "name": "stdout",
     "output_type": "stream",
     "text": [
      "Basic: [5, 3, 8, 1, 10]\n",
      "Using For:  [46, 21, 84, 66, 55, 44]\n"
     ]
    }
   ],
   "source": [
    "#swap the values of two variables example\n",
    "my_list = [10, 1, 8, 3, 5]\n",
    " \n",
    "my_list[0], my_list[4] = my_list[4], my_list[0]\n",
    "my_list[1], my_list[3] = my_list[3], my_list[1]\n",
    " \n",
    "print(\"Basic:\", my_list)\n",
    "\n",
    "new_list = [44, 55, 66,  84, 21, 46]\n",
    "\n",
    "for i in range(len(new_list) // 2):\n",
    "    new_list[i], new_list[len(new_list) - i - 1] = new_list[len(new_list) - i - 1], new_list[i]\n",
    "\n",
    "print(\"Using For: \", new_list)"
   ]
  },
  {
   "cell_type": "markdown",
   "id": "f4d18c35-7115-43a2-9385-a930f660d854",
   "metadata": {},
   "source": [
    "Write a program that reflects these changes and lets you practice with the concept of lists. Your task is to:\r\n",
    "\r\n",
    "step 1: create an empty list named beatles;\r\n",
    "step 2: use the append() method to add the following members of the band to the list: John Lennon, Paul McCartney, and George Harrison;\r\n",
    "step 3: use the for loop and the append() method to prompt the user to add the following members of the band to the list: Stu Sutcliffe, and Pete Best;\r\n",
    "step 4: use the del instruction to remove Stu Sutcliffe and Pete Best from the list;\r\n",
    "step 5: use the insert() method to add Ringo Starr to the beginning of the list."
   ]
  },
  {
   "cell_type": "code",
   "execution_count": 47,
   "id": "6470a6d7-1c21-4f24-af18-6befd114c49f",
   "metadata": {},
   "outputs": [
    {
     "name": "stdout",
     "output_type": "stream",
     "text": [
      "Step 1: []\n",
      "Step 2: ['John Lennon', 'Paul McCartney', 'George Harrison']\n"
     ]
    },
    {
     "name": "stdin",
     "output_type": "stream",
     "text": [
      "Add the new singer:  Santi\n",
      "Add the new singer:  Steven\n"
     ]
    },
    {
     "name": "stdout",
     "output_type": "stream",
     "text": [
      "Step 3: ['John Lennon', 'Paul McCartney', 'George Harrison', 'Santi', 'Steven']\n",
      "Step 4: ['John Lennon', 'Paul McCartney', 'George Harrison']\n",
      "Step 5: ['Ringo Starr', 'John Lennon', 'Paul McCartney', 'George Harrison']\n",
      "The Fab 4\n"
     ]
    }
   ],
   "source": [
    "# step 1\n",
    "beatles = []\n",
    "print(\"Step 1:\", beatles)\n",
    "\n",
    "# step 2\n",
    "beatles.append(\"John Lennon\")\n",
    "beatles.append(\"Paul McCartney\")\n",
    "beatles.append(\"George Harrison\")\n",
    "print(\"Step 2:\", beatles)\n",
    "\n",
    "# step 3\n",
    "for i in range(2):\n",
    "    member = input(\"Add the new singer: \")\n",
    "    beatles.append(member)\n",
    "    \n",
    "print(\"Step 3:\", beatles)\n",
    "\n",
    "# step 4\n",
    "del beatles[3]\n",
    "del beatles[3]\n",
    "print(\"Step 4:\", beatles)\n",
    "\n",
    "# step 5\n",
    "beatles.insert(0, \"Ringo Starr\")\n",
    "print(\"Step 5:\", beatles)\n",
    "\n",
    "# testing list legth\n",
    "print(\"The Fab\", len(beatles))"
   ]
  },
  {
   "cell_type": "markdown",
   "id": "b4c55104-37b0-46cc-a6c8-a4353a148297",
   "metadata": {},
   "source": [
    "Sorting a List"
   ]
  },
  {
   "cell_type": "code",
   "execution_count": 10,
   "id": "55f19da0-92bf-4865-a73c-ee48342de1f0",
   "metadata": {},
   "outputs": [
    {
     "name": "stdin",
     "output_type": "stream",
     "text": [
      "How many elements do you want to sort:  5\n",
      "Enter a list element:  74\n",
      "Enter a list element:  35\n",
      "Enter a list element:  12\n",
      "Enter a list element:  10\n",
      "Enter a list element:  150\n"
     ]
    },
    {
     "name": "stdout",
     "output_type": "stream",
     "text": [
      "\n",
      "Sorted:\n",
      "[10.0, 12.0, 35.0, 74.0, 150.0]\n"
     ]
    }
   ],
   "source": [
    "my_list = []\n",
    "swapped = True\n",
    "num = int(input(\"How many elements do you want to sort: \"))\n",
    "\n",
    "for i in range(num):\n",
    "    val = float(input(\"Enter a list element: \"))\n",
    "    my_list.append(val)\n",
    "\n",
    "while swapped:\n",
    "    swapped = False\n",
    "    for i in range(len(my_list) - 1):\n",
    "        if my_list[i] > my_list[i + 1]:\n",
    "            swapped = True\n",
    "            my_list[i], my_list[i + 1] = my_list[i + 1], my_list[i]\n",
    "\n",
    "print(\"\\nSorted:\")\n",
    "print(my_list)"
   ]
  },
  {
   "cell_type": "markdown",
   "id": "c34837b8-5e5a-4be6-a2b3-55da66f8f0ab",
   "metadata": {},
   "source": [
    "1. You can use the sort() method to sort elements of a list, e.g.:\n",
    "\r\n"
   ]
  },
  {
   "cell_type": "code",
   "execution_count": 18,
   "id": "7dd29353-3deb-41cf-9aca-2b237004b0e9",
   "metadata": {},
   "outputs": [
    {
     "name": "stdout",
     "output_type": "stream",
     "text": [
      "[3, 5, 8, 10, 15]\n"
     ]
    }
   ],
   "source": [
    "lst = [5, 10, 8, 3, 15]\n",
    " \n",
    "lst.sort()\n",
    "print(lst)  # outputs: [3, 5, 8, 10, 15]"
   ]
  },
  {
   "cell_type": "markdown",
   "id": "28bb8224-017c-40e9-bc71-7914c5fa99ff",
   "metadata": {},
   "source": [
    "A slice is an element of Python syntax that allows you to make a brand new copy of a list, or parts of a list.\n",
    "\n",
    "my_list[start:end]\n",
    "\n",
    "A slice of this form makes a new (target) list, taking elements from the source list ‒ the elements of the indices from start to end - 1."
   ]
  },
  {
   "cell_type": "code",
   "execution_count": 25,
   "id": "69bdbac8-cca7-4a67-8602-e1ddd1c4382b",
   "metadata": {},
   "outputs": [
    {
     "name": "stdout",
     "output_type": "stream",
     "text": [
      "[1]\n",
      "[8, 6]\n",
      "[10, 4, 2]\n"
     ]
    }
   ],
   "source": [
    "# Copying the entire list.\n",
    "list_1 = [1]\n",
    "list_2 = list_1[:]\n",
    "list_1[0] = 2\n",
    "print(list_2)\n",
    "\n",
    "# Copying some part of the list.\n",
    "my_list = [10, 8, 6, 4, 2]\n",
    "new_list = my_list[1:3]\n",
    "print(new_list)\n",
    "#Using Del\n",
    "del my_list[1:3]\n",
    "print(my_list)"
   ]
  },
  {
   "cell_type": "markdown",
   "id": "18d52e1f-b3eb-4cb4-801f-f06164919c67",
   "metadata": {},
   "source": [
    "Find the greater value in the list:"
   ]
  },
  {
   "cell_type": "code",
   "execution_count": 29,
   "id": "98365ecc-bd11-4b23-80bc-9e9f4d051591",
   "metadata": {},
   "outputs": [
    {
     "name": "stdout",
     "output_type": "stream",
     "text": [
      "17\n",
      "75\n"
     ]
    }
   ],
   "source": [
    "my_list = [17, 3, 11, 5, 1, 9, 7, 15, 13]\n",
    "largest = my_list[0]\n",
    "\n",
    "for i in range(1, len(my_list)):\n",
    "    if my_list[i] > largest:\n",
    "        largest = my_list[i]\n",
    "\n",
    "print(largest)\n",
    "\n",
    "#If you need to save computer power, you can use a slice:\n",
    "my_list = [17, 3, 11, 75, 1, 9, 70, 15, 13]\n",
    "largest = my_list[0]\n",
    " \n",
    "for i in my_list[1:]:\n",
    "    if i > largest:\n",
    "        largest = i\n",
    " \n",
    "print(largest)"
   ]
  },
  {
   "cell_type": "markdown",
   "id": "09a63235-71b7-4dd0-86a5-c2ab01f33d06",
   "metadata": {},
   "source": [
    "Now let's find the location of a given element inside a list:\n",
    "\r\n"
   ]
  },
  {
   "cell_type": "code",
   "execution_count": 31,
   "id": "5afbceb9-f761-4942-84dc-2b0ae828928e",
   "metadata": {},
   "outputs": [
    {
     "name": "stdout",
     "output_type": "stream",
     "text": [
      "Element found at index 4\n"
     ]
    }
   ],
   "source": [
    "my_list = [1, 2, 3, 4, 5, 6, 7, 8, 9, 10]\n",
    "to_find = 5\n",
    "found = False\n",
    " \n",
    "for i in range(len(my_list)):\n",
    "    found = my_list[i] == to_find\n",
    "    if found:\n",
    "        break\n",
    " \n",
    "if found:\n",
    "    print(\"Element found at index\", i)\n",
    "else:\n",
    "    print(\"absent\")"
   ]
  },
  {
   "cell_type": "markdown",
   "id": "a395c613-d877-4c0f-b219-9636ccebd35a",
   "metadata": {},
   "source": [
    "Let's assume that you've chosen the following numbers in the lottery: 3, 7, 11, 42, 34, 49.\r\n",
    "\r\n",
    "The numbers that have been drawn are: 5, 11, 9, 42, 3, 49.\r\n",
    "\r\n",
    "The question is: how many numbers have you hit?"
   ]
  },
  {
   "cell_type": "code",
   "execution_count": 35,
   "id": "1058ab9e-15a5-4620-bcfc-644c6486d82c",
   "metadata": {},
   "outputs": [
    {
     "name": "stdout",
     "output_type": "stream",
     "text": [
      "5\n"
     ]
    }
   ],
   "source": [
    "drawn = [5, 11, 9, 42, 3, 49, 0, 55, 74]\n",
    "bets = [74, 3, 7, 11, 42, 34, 49, 7, 96]\n",
    "hits = 0\n",
    " \n",
    "for number in bets:\n",
    "    if number in drawn:\n",
    "        hits += 1\n",
    " \n",
    "print(hits)"
   ]
  },
  {
   "cell_type": "code",
   "execution_count": 37,
   "id": "0259fe35-2fa3-4ebf-9083-95d2b323fea2",
   "metadata": {},
   "outputs": [
    {
     "name": "stdout",
     "output_type": "stream",
     "text": [
      "The list with unique elements only:\n",
      "[1, 2, 4, 6, 9]\n"
     ]
    }
   ],
   "source": [
    "my_list = [1, 2, 4, 4, 1, 4, 2, 6, 2, 9]\n",
    "\n",
    "# Create a new list to store unique elements\n",
    "unique_list = []\n",
    "\n",
    "# Iterate over each element in the original list\n",
    "for num in my_list:\n",
    "    # Check if the element is not already in the unique list\n",
    "    if num not in unique_list:\n",
    "        # Add the element to the unique list\n",
    "        unique_list.append(num)\n",
    "\n",
    "# Print the list with unique elements only\n",
    "print(\"The list with unique elements only:\")\n",
    "print(unique_list)"
   ]
  },
  {
   "cell_type": "code",
   "execution_count": 15,
   "id": "7fbc29b5-e307-4dd9-b10c-4e7cbf6a78c1",
   "metadata": {},
   "outputs": [
    {
     "name": "stdout",
     "output_type": "stream",
     "text": [
      "[0, 1, 8, 27, 64]\n",
      "[1, 2, 4, 8, 16, 32, 64, 128]\n",
      "[1, 9, 25, 49, 81]\n",
      "[[':(', ':)', ':(', ':)'], [':)', ':(', ':)', ':)'], [':(', ':)', ':)', ':('], [':)', ':)', ':)', ':(']]\n",
      ":(\n",
      ":)\n"
     ]
    }
   ],
   "source": [
    "'''\n",
    "List comprehension allows you to create new lists from existing ones in a concise and elegant way. The syntax of a list comprehension looks as follows:\n",
    "\n",
    "[expression for element in list if conditional]\n",
    " \n",
    "which is actually an equivalent of the following code:\n",
    "\n",
    "for element in list:\n",
    "    if conditional:\n",
    "        expression\n",
    " \n",
    "'''\n",
    "cubed = [num ** 3 for num in range(5)]\n",
    "print(cubed) # outputs: [0, 1, 8, 27, 64]\n",
    "\n",
    "squares = [x ** 2 for x in range(10)]\n",
    "\n",
    "#The snippet produces a ten-element list filled with squares of ten integer numbers starting from zero.\n",
    "twos = [2 ** i for i in range(8)]\n",
    "print(twos)\n",
    "\n",
    "#The snippet creates an eight-element array containing the first eight powers of two\n",
    "odds = [x for x in squares if x % 2 != 0 ]\n",
    "print(odds)\n",
    "\n",
    "#2. You can use nested lists in Python to create matrices (i.e., two-dimensional lists). For example:\n",
    "# A four-column/four-row table ‒ a two dimensional array (4x4)\n",
    "table = [[\":(\", \":)\", \":(\", \":)\"],\n",
    "         [\":)\", \":(\", \":)\", \":)\"],\n",
    "         [\":(\", \":)\", \":)\", \":(\"],\n",
    "         [\":)\", \":)\", \":)\", \":(\"]]\n",
    " \n",
    "print(table)\n",
    "print(table[0][0])  # outputs: ':('\n",
    "print(table[0][3])  # outputs: ':)'\n"
   ]
  },
  {
   "cell_type": "code",
   "execution_count": 17,
   "id": "52e8564c-12fc-4736-a170-0bcbcf115207",
   "metadata": {},
   "outputs": [
    {
     "name": "stdout",
     "output_type": "stream",
     "text": [
      "[[[':(', 'x', 'x'], [':)', 'x', 'x'], [':(', 'x', 'x']], [[':)', 'x', 'x'], [':(', 'x', 'x'], [':)', 'x', 'x']], [[':(', 'x', 'x'], [':)', 'x', 'x'], [':)', 'x', 'x']]]\n",
      ":(\n",
      ":)\n"
     ]
    }
   ],
   "source": [
    "# Cube - a three-dimensional array (3x3x3)\n",
    " \n",
    "cube = [[[':(', 'x', 'x'],\n",
    "         [':)', 'x', 'x'],\n",
    "         [':(', 'x', 'x']],\n",
    " \n",
    "        [[':)', 'x', 'x'],\n",
    "         [':(', 'x', 'x'],\n",
    "         [':)', 'x', 'x']],\n",
    " \n",
    "        [[':(', 'x', 'x'],\n",
    "         [':)', 'x', 'x'],\n",
    "         [':)', 'x', 'x']]]\n",
    " \n",
    "print(cube)\n",
    "print(cube[0][0][0])  # outputs: ':('\n",
    "print(cube[2][2][0])  # outputs: ':)'"
   ]
  },
  {
   "cell_type": "code",
   "execution_count": 57,
   "id": "36a12a61-1560-45b7-8b9e-7c5b5597edaf",
   "metadata": {},
   "outputs": [
    {
     "name": "stdout",
     "output_type": "stream",
     "text": [
      "6\n"
     ]
    }
   ],
   "source": [
    "t = [[3-i for i in range (3)] for j in range (3)]\n",
    "s = 0\n",
    "for i in range(3):\n",
    "    s += t[i][i]\n",
    "print(s)"
   ]
  },
  {
   "cell_type": "code",
   "execution_count": 3,
   "id": "ae2368cf-16d7-497d-8311-b8ba35aba3a9",
   "metadata": {},
   "outputs": [
    {
     "name": "stdout",
     "output_type": "stream",
     "text": [
      "1 + 2 + 3 = 6\n",
      "2 + 3 + 1 = 6\n"
     ]
    }
   ],
   "source": [
    "def adding(a, b, c):\n",
    "    print(a, \"+\", b, \"+\", c, \"=\", a + b + c)\n",
    "\n",
    "adding(1, 2, 3)\n",
    "adding(c = 1, a = 2, b = 3)"
   ]
  },
  {
   "cell_type": "code",
   "execution_count": 5,
   "id": "01a707f7-a8c5-4b5d-8915-863f0f9237fa",
   "metadata": {},
   "outputs": [
    {
     "name": "stdin",
     "output_type": "stream",
     "text": [
      "Street:  55\n",
      "Postal Code:  GREW\n",
      "City:  CALI\n"
     ]
    },
    {
     "name": "stdout",
     "output_type": "stream",
     "text": [
      "Your address is: 55 St., CALI GREW\n"
     ]
    }
   ],
   "source": [
    "#1. You can pass information to functions by using parameters. Your functions can have as many parameters as you need. \n",
    "# An example of a oparameter function:\n",
    "def address(street, city, postal_code):\n",
    "    print(\"Your address is:\", street, \"St.,\", city, postal_code)\n",
    " \n",
    "s = input(\"Street: \")\n",
    "p_c = input(\"Postal Code: \")\n",
    "c = input(\"City: \")\n",
    "address(s, c, p_c)"
   ]
  },
  {
   "cell_type": "code",
   "execution_count": 11,
   "id": "fa9c3435-8d1a-4250-b645-c1aadceb4dfd",
   "metadata": {},
   "outputs": [
    {
     "name": "stdout",
     "output_type": "stream",
     "text": [
      "3\n",
      "-3\n",
      "3\n",
      "3\n",
      "3\n",
      "3\n"
     ]
    }
   ],
   "source": [
    "'''\n",
    "2. You can pass arguments to a function using the following techniques:\n",
    "\n",
    "positional argument passing in which the order of arguments passed matters (Ex. 1)\n",
    "keyword (named) argument passing in which the order of arguments passed doesn't matter (Ex. 2)\n",
    "a mix of positional and keyword argument passing (Ex. 3.)\n",
    "'''\n",
    "#Ex. 1\n",
    "def subtra(a, b):\n",
    "    print(a - b)\n",
    " \n",
    "subtra(5, 2) # outputs: 3\n",
    "subtra(2, 5) # outputs: -3\n",
    " \n",
    "#Ex. 2\n",
    "def subtra(a, b):\n",
    "    print(a - b)\n",
    " \n",
    "subtra(a=5, b=2) # outputs: 3\n",
    "subtra(b=2, a=5) # outputs: 3\n",
    " \n",
    "#Ex. 3\n",
    "def subtra(a, b):\n",
    "    print(a - b)\n",
    " \n",
    "subtra(5, b=2) # outputs: 3\n",
    "subtra(5, 2) # outputs: 3"
   ]
  },
  {
   "cell_type": "code",
   "execution_count": 1,
   "id": "2c6be2f5-b42f-4553-8ccf-33c182ba49f1",
   "metadata": {},
   "outputs": [
    {
     "name": "stdout",
     "output_type": "stream",
     "text": [
      "12\n"
     ]
    }
   ],
   "source": [
    "def list_sum(lst):\n",
    "    s = 0\n",
    " \n",
    "    for elem in lst:\n",
    "        s += elem\n",
    " \n",
    "    return s\n",
    "    \n",
    "print(list_sum([5, 4, 3]))"
   ]
  },
  {
   "cell_type": "code",
   "execution_count": 3,
   "id": "3ec3f081-0bb9-425e-aa32-5214f1a2e828",
   "metadata": {},
   "outputs": [
    {
     "name": "stdout",
     "output_type": "stream",
     "text": [
      "[4, 3, 2, 1, 0]\n"
     ]
    }
   ],
   "source": [
    "def strange_list_fun(n):\n",
    "    strange_list = []\n",
    "    \n",
    "    for i in range(0, n):\n",
    "        strange_list.insert(0, i)\n",
    "    \n",
    "    return strange_list\n",
    "\n",
    "print(strange_list_fun(5))"
   ]
  },
  {
   "cell_type": "markdown",
   "id": "7d9a43d2-0924-44b9-93b0-1c694f0d6619",
   "metadata": {},
   "source": [
    "Leap Year: Write and test a function which takes one argument (a year) and returns True if the year is a leap year, or False otherwise."
   ]
  },
  {
   "cell_type": "code",
   "execution_count": 6,
   "id": "b42e4998-a31b-43ed-98ab-94c71ee7b33e",
   "metadata": {},
   "outputs": [
    {
     "name": "stdout",
     "output_type": "stream",
     "text": [
      "1900 -> OK\n",
      "2000 -> OK\n",
      "2016 -> OK\n",
      "1987 -> OK\n"
     ]
    }
   ],
   "source": [
    "def is_year_leap(year):\n",
    "    if year % 4 != 0:\n",
    "        return False\n",
    "    elif year % 100 != 0:\n",
    "        return True\n",
    "    elif year % 400 != 0:\n",
    "        return False\n",
    "    else:\n",
    "        return True\n",
    "\n",
    "test_data = [1900, 2000, 2016, 1987]\n",
    "test_results = [False, True, True, False]\n",
    "for i in range(len(test_data)):\n",
    "    yr = test_data[i]\n",
    "    print(yr,\"-> \",end=\"\")\n",
    "    result = is_year_leap(yr)\n",
    "    if result == test_results[i]:\n",
    "        print(\"OK\")\n",
    "    else:\n",
    "        print(\"Failed\")"
   ]
  },
  {
   "cell_type": "code",
   "execution_count": 8,
   "id": "6e2ac489-96d7-4a39-a1e9-889c830ec169",
   "metadata": {},
   "outputs": [
    {
     "name": "stdout",
     "output_type": "stream",
     "text": [
      "2 3 5 7 11 13 17 19 \n"
     ]
    }
   ],
   "source": [
    "#Prime numbers - A natural number is prime if it is greater than 1 and has no divisors other than 1 and itself.\n",
    "\n",
    "def is_prime(num):\n",
    "    for i in range(2, int(1 + num ** 0.5)):\n",
    "        if num % i == 0:\n",
    "            return False\n",
    "    return True\n",
    "\n",
    "for i in range(1, 20):\n",
    "    if is_prime(i + 1):\n",
    "        print(i + 1, end=\" \")\n",
    "print()"
   ]
  },
  {
   "cell_type": "code",
   "execution_count": 10,
   "id": "acf9340b-6900-4e20-96c1-81ebb3695bab",
   "metadata": {},
   "outputs": [
    {
     "name": "stdout",
     "output_type": "stream",
     "text": [
      "60.31143162393162\n",
      "31.36194444444444\n",
      "23.52145833333333\n",
      "3.9007393587617467\n",
      "7.490910297239916\n",
      "10.009131205673757\n"
     ]
    }
   ],
   "source": [
    "# 1 American mile = 1609.344 metres\n",
    "# 1 American gallon = 3.785411784 litres\n",
    "\n",
    "def liters_100km_to_miles_gallon(litres):\n",
    "    gallons = litres / 3.785411784\n",
    "    miles = 100 * 1000 / 1609.344\n",
    "    return miles / gallons\n",
    "\n",
    "def miles_gallon_to_liters_100km(miles):\n",
    "    km100 = miles * 1609.344 / 1000 / 100\n",
    "    litres = 3.785411784\n",
    "    return litres / km100\n",
    "\n",
    "print(liters_100km_to_miles_gallon(3.9))\n",
    "print(liters_100km_to_miles_gallon(7.5))\n",
    "print(liters_100km_to_miles_gallon(10.))\n",
    "print(miles_gallon_to_liters_100km(60.3))\n",
    "print(miles_gallon_to_liters_100km(31.4))\n",
    "print(miles_gallon_to_liters_100km(23.5))"
   ]
  },
  {
   "cell_type": "code",
   "execution_count": 12,
   "id": "d0e66db8-db65-415a-8357-8a2e527e7a67",
   "metadata": {},
   "outputs": [
    {
     "name": "stdout",
     "output_type": "stream",
     "text": [
      "12\n",
      "None\n"
     ]
    }
   ],
   "source": [
    "# 1. You can use the return keyword to tell a function to return some value. The return statement exits the function, e.g.:\n",
    "\n",
    "def multiply(a, b):\n",
    "    return a * b\n",
    " \n",
    "print(multiply(3, 4)) # outputs: 12\n",
    " \n",
    " \n",
    "def multiply(a, b):\n",
    "    return\n",
    " \n",
    "print(multiply(3, 4)) # outputs: None"
   ]
  },
  {
   "cell_type": "code",
   "execution_count": 14,
   "id": "8f9eb2f5-d718-4d42-9df0-2b49cc76b94b",
   "metadata": {},
   "outputs": [
    {
     "name": "stdout",
     "output_type": "stream",
     "text": [
      "[0, 2, 4, 6, 8, 10]\n"
     ]
    }
   ],
   "source": [
    "def even_num_lst(ran):\n",
    "    lst = []\n",
    "    for num in range(ran):\n",
    "        if num % 2 == 0:\n",
    "            lst.append(num)\n",
    "    return lst\n",
    " \n",
    "print(even_num_lst(11))"
   ]
  },
  {
   "cell_type": "code",
   "execution_count": 16,
   "id": "5a29e408-8a71-4b3c-a930-748b8a04e824",
   "metadata": {},
   "outputs": [
    {
     "name": "stdout",
     "output_type": "stream",
     "text": [
      "[1, 4, 9, 16, 25]\n"
     ]
    }
   ],
   "source": [
    "def list_updater(lst):\n",
    "    upd_list = []\n",
    "    for elem in lst:\n",
    "        elem **= 2\n",
    "        upd_list.append(elem)\n",
    "    return upd_list\n",
    " \n",
    "foo = [1, 2, 3, 4, 5]\n",
    "print(list_updater(foo))"
   ]
  },
  {
   "cell_type": "code",
   "execution_count": 1,
   "id": "a5093990-fc09-48f4-9bc8-eca7a252835f",
   "metadata": {},
   "outputs": [
    {
     "name": "stdout",
     "output_type": "stream",
     "text": [
      "27.56520982857069\n"
     ]
    }
   ],
   "source": [
    "#what is the BMI of a person 5'7\" tall and weighing 176 lbs?\n",
    "\n",
    "def ft_and_inch_to_m(ft, inch = 0.0):\n",
    "    return ft * 0.3048 + inch * 0.0254\n",
    " \n",
    " \n",
    "def lb_to_kg(lb):\n",
    "    return lb * 0.4535923\n",
    " \n",
    " \n",
    "def bmi(weight, height):\n",
    "    if height < 1.0 or height > 2.5 or weight < 20 or weight > 200:\n",
    "        return None\n",
    " \n",
    "    return weight / height ** 2\n",
    " \n",
    " \n",
    "print(bmi(weight = lb_to_kg(176), height = ft_and_inch_to_m(5, 7)))"
   ]
  },
  {
   "cell_type": "markdown",
   "id": "2e72dd94-07eb-4cee-a8f0-8a2969914d56",
   "metadata": {},
   "source": [
    "4.5.4 Fibonacci numbers\n",
    "\n",
    "They are a sequence of integer numbers built using a very simple rule:\r\n",
    "\r\n",
    "the first element of the sequence is equal to one (Fib1 = 1)\r\n",
    "the second is also equal to one (Fib2 = 1)\r\n",
    "every subsequent number is the the_sum of the two preceding numbers:(Fibi = Fibi-1 + Fib\n",
    "\n",
    "Here are some of the first Fibonacci numbers:\r\n",
    "\r\n",
    "fib_1 = 1 fib_2 = 1 fib_3 = 1 + 1 = 2 fib_4 = 1 + 2 = 3 fib_5 = 2 + 3 = 5 fib_6 = 3 + 5 = 8 fib_7 = 5 + 8 = 13i-2)"
   ]
  },
  {
   "cell_type": "code",
   "execution_count": 4,
   "id": "6627dfdf-6f2d-41b1-930c-bf59f0e1da62",
   "metadata": {},
   "outputs": [
    {
     "name": "stdout",
     "output_type": "stream",
     "text": [
      "1 -> 1\n",
      "2 -> 1\n",
      "3 -> 2\n",
      "4 -> 3\n",
      "5 -> 5\n",
      "6 -> 8\n",
      "7 -> 13\n",
      "8 -> 21\n",
      "9 -> 34\n"
     ]
    }
   ],
   "source": [
    "def fib(n):\n",
    "    if n < 1:\n",
    "        return None\n",
    "    if n < 3:\n",
    "        return 1\n",
    " \n",
    "    elem_1 = elem_2 = 1\n",
    "    the_sum = 0\n",
    "    for i in range(3, n + 1):\n",
    "        the_sum = elem_1 + elem_2\n",
    "        elem_1, elem_2 = elem_2, the_sum\n",
    "    return the_sum\n",
    " \n",
    " \n",
    "for n in range(1, 10): # testing\n",
    "    print(n, \"->\", fib(n))"
   ]
  },
  {
   "cell_type": "markdown",
   "id": "608e38b3-6ffd-474b-9e24-5fbf7fae65ea",
   "metadata": {},
   "source": [
    "4.5.5 Recursion\n",
    "\n",
    "This term may describe many different concepts, but one of them is especially interesting − the one referring to computer programming.\r\n",
    "\r\n",
    "In this field, recursion is a technique where a function invokes itself.\r\n",
    "\r\n",
    "These two cases seem to be the best to illustrate the phenomenon − factorials and Fibonacci numbers. Especially the latter.\r\n",
    "\r\n",
    "The Fibonacci numbers definition is a clear example of recursion. We already told you that:\r\n",
    "\r\n",
    "Fibi = Fibi-1 + Fibi-2\r\n",
    "\r\n",
    "The definition of the ith number refers to the i-1 number, and so on, till you reach the first two."
   ]
  },
  {
   "cell_type": "code",
   "execution_count": 9,
   "id": "68261ab2-c7d4-40b9-9dbe-e07d187ddd18",
   "metadata": {},
   "outputs": [
    {
     "name": "stdout",
     "output_type": "stream",
     "text": [
      "1 -> 1\n",
      "2 -> 1\n",
      "3 -> 2\n",
      "4 -> 3\n",
      "5 -> 5\n",
      "6 -> 8\n",
      "7 -> 13\n",
      "8 -> 21\n",
      "9 -> 34\n"
     ]
    }
   ],
   "source": [
    "def fib(n):\n",
    "    if n < 1:\n",
    "         return None\n",
    "    if n < 3:\n",
    "        return 1\n",
    "\n",
    "#The factorial has a second, recursive side too. Look:  n! = 1 × 2 × 3 × ... × n-1 × n\n",
    "#the result is: n! = (n-1)! × n\n",
    "  \n",
    "    elem_1 = elem_2 = 1\n",
    "    the_sum = 0\n",
    "    for i in range(3, n + 1):\n",
    "        the_sum = elem_1 + elem_2\n",
    "        elem_1, elem_2 = elem_2, the_sum\n",
    "    return the_sum\n",
    "\n",
    "\n",
    "for n in range(1, 10):\n",
    "    print(n, \"->\", fib(n))"
   ]
  },
  {
   "cell_type": "markdown",
   "id": "367bf1e7-1124-42e9-80ec-63d30bf8a2e4",
   "metadata": {},
   "source": [
    "\n",
    "4.5.6 SECTION SUMMAR\n",
    "Y\r\n",
    "1. A function can call other functions, or even itself. When a function calls itself, this situation is known as recursion, and the function which calls itself and contains a specified termination condition (i.e., the base case − a condition which doesn't tell the function to make any further calls to that function) is called a recursive function.\r\n",
    "\r\n",
    "2. You can use recursive functions in Python to write clean, elegant code, and divide it into smaller, organized chunks. On the other hand, you need to be very careful as it might be easy to make a mistake and create a function which never terminates. You also need to remember that recursive calls consume a lot of memory, and therefore may sometimes be inefficient.\r\n",
    "\r\n",
    "When using recursion, you need to take all its advantages and disadvantages into consideration.\r\n",
    "\r\n",
    "The factorial function is a classic example of how the concept of recursion can be put in practice:"
   ]
  },
  {
   "cell_type": "code",
   "execution_count": 12,
   "id": "6e2a73c3-fb63-409a-8b9e-4f6fff36811c",
   "metadata": {},
   "outputs": [
    {
     "name": "stdout",
     "output_type": "stream",
     "text": [
      "24\n"
     ]
    }
   ],
   "source": [
    "# Recursive implementation of the factorial function.\n",
    " \n",
    "def factorial(n):\n",
    "    if n == 1: # The base case (termination condition.)\n",
    "        return 1\n",
    "    else:\n",
    "        return n * factorial(n - 1)\n",
    " \n",
    " \n",
    "print(factorial(4)) # 4 * 3 * 2 * 1 = 24"
   ]
  },
  {
   "cell_type": "code",
   "execution_count": 8,
   "id": "31682cbc-8f6a-4726-9e96-01190f23a03c",
   "metadata": {},
   "outputs": [
    {
     "name": "stdout",
     "output_type": "stream",
     "text": [
      "(1, 2, True, 'a string', (3, 4), [5, 6], None)\n",
      "[1, 2, True, 'a string', (3, 4), [5, 6], None]\n",
      "<class 'tuple'>\n",
      "<class 'tuple'>\n",
      "<class 'int'>\n",
      "[3, 4]\n"
     ]
    }
   ],
   "source": [
    "# Tuples are ordered and unchangeable (immutable) collections of data. They can be thought of as immutable lists. They are written in round brackets:\n",
    "\n",
    "my_tuple = (1, 2, True, \"a string\", (3, 4), [5, 6], None)\n",
    "print(my_tuple)\n",
    "\n",
    "my_list = [1, 2, True, \"a string\", (3, 4), [5, 6], None]\n",
    "print(my_list)\n",
    "\n",
    "empty_tuple = ()\n",
    "print(type(empty_tuple)) # outputs: <class 'tuple'>\n",
    "\n",
    "one_elem_tuple_1 = (\"one\", )    # Brackets and a comma.\n",
    "one_elem_tuple_2 = \"one\",       # No brackets, just a comma.\n",
    "\n",
    "my_tuple_1 = 1, \n",
    "print(type(my_tuple_1))    # outputs: <class 'tuple'>\n",
    "\n",
    "my_tuple_2 = 1             # This is not a tuple.\n",
    "print(type(my_tuple_2))    # outputs: <class 'int'>\n",
    "\n",
    "#4. You can access tuple elements by indexing them:\n",
    "my_tuple = (1, 2.0, \"string\", [3, 4], (5, ), True)\n",
    "print(my_tuple[3]) # outputs: [3, 4]"
   ]
  },
  {
   "cell_type": "markdown",
   "id": "009d4f37-f003-43fd-b749-1fe6f3ad19a7",
   "metadata": {},
   "source": [
    "You can also create a tuple using a Python built-in function called tuple(). This is particularly useful when you want to convert a certain iterable (e.g., a list, range, string, etc.) to a tuple:"
   ]
  },
  {
   "cell_type": "code",
   "execution_count": 11,
   "id": "d5a4e1e2-650d-44e0-95ce-9db570c2b31e",
   "metadata": {},
   "outputs": [
    {
     "name": "stdout",
     "output_type": "stream",
     "text": [
      "(1, 2, 'string')\n",
      "[2, 4, 6]\n",
      "<class 'list'>\n",
      "(2, 4, 6)\n",
      "<class 'tuple'>\n",
      "<class 'list'>\n"
     ]
    }
   ],
   "source": [
    "my_tuple = tuple((1, 2, \"string\"))\n",
    "print(my_tuple)\n",
    " \n",
    "my_list = [2, 4, 6]\n",
    "print(my_list) # outputs: [2, 4, 6]\n",
    "print(type(my_list)) # outputs: <class 'list'>\n",
    "tup = tuple(my_list)\n",
    "print(tup) # outputs: (2, 4, 6)\n",
    "print(type(tup)) # outputs: <class 'tuple'>\n",
    "\n",
    "tup = 1, 2, 3,\n",
    "my_list = list(tup)\n",
    "print(type(my_list)) # outputs: <class 'list'>"
   ]
  },
  {
   "cell_type": "code",
   "execution_count": 17,
   "id": "46b87bcd-21ba-4cd5-82eb-c74b9fce1851",
   "metadata": {},
   "outputs": [
    {
     "name": "stdout",
     "output_type": "stream",
     "text": [
      "white : (255, 255, 255)\n",
      "grey : (128, 128, 128)\n",
      "red : (255, 0, 0)\n",
      "green : (0, 128, 0)\n"
     ]
    }
   ],
   "source": [
    "colors = {\n",
    "    \"white\": (255, 255, 255),\n",
    "    \"grey\": (128, 128, 128),\n",
    "    \"red\": (255, 0, 0),\n",
    "    \"green\": (0, 128, 0)\n",
    "    }\n",
    " \n",
    "for col, rgb in colors.items():\n",
    "    print(col, \":\", rgb)"
   ]
  },
  {
   "cell_type": "markdown",
   "id": "720c830f-58fa-4f26-8c42-00d30d44e03e",
   "metadata": {},
   "source": [
    "1. The \"try\" keyword marks the place where you try to do something without permission;\r",
    "2. Tthe\" excep\"t keyword starts a location where you can show off your apology talents."
   ]
  },
  {
   "cell_type": "code",
   "execution_count": 6,
   "id": "921fec57-244b-482c-a8a7-7151c2e87e15",
   "metadata": {},
   "outputs": [
    {
     "name": "stdin",
     "output_type": "stream",
     "text": [
      "Enter an int number:  5\n"
     ]
    },
    {
     "name": "stdout",
     "output_type": "stream",
     "text": [
      "1.0\n"
     ]
    }
   ],
   "source": [
    "while True:\n",
    "    try:\n",
    "        number = int(input(\"Enter an int number: \"))\n",
    "        print(5/number)\n",
    "        break\n",
    "    except ValueError:\n",
    "        print(\"Wrong value.\")\n",
    "    except ZeroDivisionError:\n",
    "        print(\"Sorry. I cannot divide by zero.\")\n",
    "    except:\n",
    "        print(\"I don't know what to do...\")"
   ]
  },
  {
   "cell_type": "code",
   "execution_count": 30,
   "id": "c2f051fc-f764-4357-abb2-28e202665a73",
   "metadata": {},
   "outputs": [
    {
     "name": "stdout",
     "output_type": "stream",
     "text": [
      "two\n"
     ]
    }
   ],
   "source": [
    "dictionary = {'one': 'two', 'three': 'one', 'two': 'three'}\n",
    "v = dictionary['one']\n",
    " \n",
    "for k in range(len(dictionary)):\n",
    "    v = dictionary[v]\n",
    " \n",
    "print(v)"
   ]
  },
  {
   "cell_type": "code",
   "execution_count": 32,
   "id": "12bb33ee-d5fa-4cdc-be8c-efb0082c2468",
   "metadata": {},
   "outputs": [
    {
     "name": "stdout",
     "output_type": "stream",
     "text": [
      "2\n"
     ]
    }
   ],
   "source": [
    "tup = (1, 2, 4, 8)\n",
    "tup = tup[1:-1]\n",
    "tup = tup[0]\n",
    "print(tup)"
   ]
  },
  {
   "cell_type": "markdown",
   "id": "46d453f8-5b2d-44cd-8ccb-06946b65a74b",
   "metadata": {},
   "source": [
    "Your task is to write a simple program which pretends to play tic-tac-toe with the user. To make it all easier for you, we've decided to simplify the game. Here are our assumptions:\r\n",
    "\r\n",
    "the computer (i.e., your program) should play the game using 'X's;\r\n",
    "the user (e.g., you) should play the game using 'O's;\r\n",
    "the first move belongs to the computer − it always puts its first 'X' in the middle of the board;\r\n",
    "all the squares are numbered row by row starting with 1 (see the example session below for reference)\r\n",
    "the user inputs their move by entering the number of the square they choose − the number must be valid, i.e., it must be an integer, it must be greater than 0 and less than 10, and it cannot point to a field which is already occupied;\r\n",
    "the program checks if the game is over − there are four possible verdicts: the game should continue, the game ends with a tie, you win, or the computer wins;\r\n",
    "the computer responds with its move and the check is repeated;\r\n",
    "don't implement any form of artificial intelligence − a random field choice made by the computer is good enough for the game."
   ]
  },
  {
   "cell_type": "code",
   "execution_count": 2,
   "id": "c2d5aa99-a5f4-4e52-9e63-0097a192e910",
   "metadata": {},
   "outputs": [],
   "source": [
    "#SOLUTION https://replit.com/@bytealphatech/1-NETCAD-Python-1"
   ]
  },
  {
   "cell_type": "code",
   "execution_count": 1,
   "id": "bff206d0-f7e1-4de2-b087-c920fc24a4f8",
   "metadata": {},
   "outputs": [
    {
     "name": "stdout",
     "output_type": "stream",
     "text": [
      "+-------+-------+-------+\n",
      "|       |       |       |\n",
      "|   1   |   2   |   3   |\n",
      "|       |       |       |\n",
      "+-------+-------+-------+\n",
      "|       |       |       |\n",
      "|   4   |   X   |   6   |\n",
      "|       |       |       |\n",
      "+-------+-------+-------+\n",
      "|       |       |       |\n",
      "|   7   |   8   |   9   |\n",
      "|       |       |       |\n",
      "+-------+-------+-------+\n"
     ]
    },
    {
     "name": "stdin",
     "output_type": "stream",
     "text": [
      "Enter your move:  2\n"
     ]
    },
    {
     "name": "stdout",
     "output_type": "stream",
     "text": [
      "+-------+-------+-------+\n",
      "|       |       |       |\n",
      "|   1   |   O   |   3   |\n",
      "|       |       |       |\n",
      "+-------+-------+-------+\n",
      "|       |       |       |\n",
      "|   4   |   X   |   6   |\n",
      "|       |       |       |\n",
      "+-------+-------+-------+\n",
      "|       |       |       |\n",
      "|   7   |   8   |   9   |\n",
      "|       |       |       |\n",
      "+-------+-------+-------+\n",
      "+-------+-------+-------+\n",
      "|       |       |       |\n",
      "|   1   |   O   |   3   |\n",
      "|       |       |       |\n",
      "+-------+-------+-------+\n",
      "|       |       |       |\n",
      "|   4   |   X   |   X   |\n",
      "|       |       |       |\n",
      "+-------+-------+-------+\n",
      "|       |       |       |\n",
      "|   7   |   8   |   9   |\n",
      "|       |       |       |\n",
      "+-------+-------+-------+\n"
     ]
    },
    {
     "name": "stdin",
     "output_type": "stream",
     "text": [
      "Enter your move:  4\n"
     ]
    },
    {
     "name": "stdout",
     "output_type": "stream",
     "text": [
      "+-------+-------+-------+\n",
      "|       |       |       |\n",
      "|   1   |   O   |   3   |\n",
      "|       |       |       |\n",
      "+-------+-------+-------+\n",
      "|       |       |       |\n",
      "|   O   |   X   |   X   |\n",
      "|       |       |       |\n",
      "+-------+-------+-------+\n",
      "|       |       |       |\n",
      "|   7   |   8   |   9   |\n",
      "|       |       |       |\n",
      "+-------+-------+-------+\n",
      "+-------+-------+-------+\n",
      "|       |       |       |\n",
      "|   X   |   O   |   3   |\n",
      "|       |       |       |\n",
      "+-------+-------+-------+\n",
      "|       |       |       |\n",
      "|   O   |   X   |   X   |\n",
      "|       |       |       |\n",
      "+-------+-------+-------+\n",
      "|       |       |       |\n",
      "|   7   |   8   |   9   |\n",
      "|       |       |       |\n",
      "+-------+-------+-------+\n"
     ]
    },
    {
     "name": "stdin",
     "output_type": "stream",
     "text": [
      "Enter your move:  9\n"
     ]
    },
    {
     "name": "stdout",
     "output_type": "stream",
     "text": [
      "+-------+-------+-------+\n",
      "|       |       |       |\n",
      "|   X   |   O   |   3   |\n",
      "|       |       |       |\n",
      "+-------+-------+-------+\n",
      "|       |       |       |\n",
      "|   O   |   X   |   X   |\n",
      "|       |       |       |\n",
      "+-------+-------+-------+\n",
      "|       |       |       |\n",
      "|   7   |   8   |   O   |\n",
      "|       |       |       |\n",
      "+-------+-------+-------+\n",
      "+-------+-------+-------+\n",
      "|       |       |       |\n",
      "|   X   |   O   |   3   |\n",
      "|       |       |       |\n",
      "+-------+-------+-------+\n",
      "|       |       |       |\n",
      "|   O   |   X   |   X   |\n",
      "|       |       |       |\n",
      "+-------+-------+-------+\n",
      "|       |       |       |\n",
      "|   X   |   8   |   O   |\n",
      "|       |       |       |\n",
      "+-------+-------+-------+\n"
     ]
    },
    {
     "name": "stdin",
     "output_type": "stream",
     "text": [
      "Enter your move:  3\n"
     ]
    },
    {
     "name": "stdout",
     "output_type": "stream",
     "text": [
      "+-------+-------+-------+\n",
      "|       |       |       |\n",
      "|   X   |   O   |   O   |\n",
      "|       |       |       |\n",
      "+-------+-------+-------+\n",
      "|       |       |       |\n",
      "|   O   |   X   |   X   |\n",
      "|       |       |       |\n",
      "+-------+-------+-------+\n",
      "|       |       |       |\n",
      "|   X   |   8   |   O   |\n",
      "|       |       |       |\n",
      "+-------+-------+-------+\n",
      "+-------+-------+-------+\n",
      "|       |       |       |\n",
      "|   X   |   O   |   O   |\n",
      "|       |       |       |\n",
      "+-------+-------+-------+\n",
      "|       |       |       |\n",
      "|   O   |   X   |   X   |\n",
      "|       |       |       |\n",
      "+-------+-------+-------+\n",
      "|       |       |       |\n",
      "|   X   |   X   |   O   |\n",
      "|       |       |       |\n",
      "+-------+-------+-------+\n",
      "Tie!\n"
     ]
    }
   ],
   "source": [
    "#SOLUTION 2\n",
    "\n",
    "from random import randrange\n",
    "\n",
    "\n",
    "def display_board(board):\n",
    "\tprint(\"+-------\" * 3,\"+\", sep=\"\")\n",
    "\tfor row in range(3):\n",
    "\t\tprint(\"|       \" * 3,\"|\", sep=\"\")\n",
    "\t\tfor col in range(3):\n",
    "\t\t\tprint(\"|   \" + str(board[row][col]) + \"   \", end=\"\")\n",
    "\t\tprint(\"|\")\n",
    "\t\tprint(\"|       \" * 3,\"|\",sep=\"\")\n",
    "\t\tprint(\"+-------\" * 3,\"+\",sep=\"\")\n",
    "\n",
    "\n",
    "def enter_move(board):\n",
    "\tok = False\t# fake assumption - we need it to enter the loop\n",
    "\twhile not ok:\n",
    "\t\tmove = input(\"Enter your move: \") \n",
    "\t\tok = len(move) == 1 and move >= '1' and move <= '9' # is user's input valid?\n",
    "\t\tif not ok:\n",
    "\t\t\tprint(\"Bad move - repeat your input!\") # no, it isn't - do the input again\n",
    "\t\t\tcontinue\n",
    "\t\tmove = int(move) - 1 \t# cell's number from 0 to 8\n",
    "\t\trow = move // 3 \t# cell's row\n",
    "\t\tcol = move % 3\t\t# cell's column\n",
    "\t\tsign = board[row][col]\t# check the selected square\n",
    "\t\tok = sign not in ['O','X'] \n",
    "\t\tif not ok:\t# it's occupied - to the input again\n",
    "\t\t\tprint(\"Field already occupied - repeat your input!\")\n",
    "\t\t\tcontinue\n",
    "\tboard[row][col] = 'O' \t# set '0' at the selected square\n",
    "\n",
    "\n",
    "def make_list_of_free_fields(board):\n",
    "\tfree = []\t\n",
    "\tfor row in range(3): # iterate through rows\n",
    "\t\tfor col in range(3): # iterate through columns\n",
    "\t\t\tif board[row][col] not in ['O','X']: # is the cell free?\n",
    "\t\t\t\tfree.append((row,col)) # yes, it is - append new tuple to the list\n",
    "\treturn free\n",
    "\n",
    "\n",
    "def victory_for(board,sgn):\n",
    "\tif sgn == \"X\":\t# are we looking for X?\n",
    "\t\twho = 'me'\t# yes - it's computer's side\n",
    "\telif sgn == \"O\": # ... or for O?\n",
    "\t\twho = 'you'\t# yes - it's our side\n",
    "\telse:\n",
    "\t\twho = None\t# we should not fall here!\n",
    "\tcross1 = cross2 = True  # for diagonals\n",
    "\tfor rc in range(3):\n",
    "\t\tif board[rc][0] == sgn and board[rc][1] == sgn and board[rc][2] == sgn:\t# check row rc\n",
    "\t\t\treturn who\n",
    "\t\tif board[0][rc] == sgn and board[1][rc] == sgn and board[2][rc] == sgn: # check column rc\n",
    "\t\t\treturn who\n",
    "\t\tif board[rc][rc] != sgn: # check 1st diagonal\n",
    "\t\t\tcross1 = False\n",
    "\t\tif board[2 - rc][2 - rc] != sgn: # check 2nd diagonal\n",
    "\t\t\tcross2 = False\n",
    "\tif cross1 or cross2:\n",
    "\t\treturn who\n",
    "\treturn None\n",
    "\n",
    "\n",
    "def draw_move(board):\n",
    "\tfree = make_list_of_free_fields(board) # make a list of free fields\n",
    "\tcnt = len(free)\n",
    "\tif cnt > 0:\t\n",
    "\t\tthis = randrange(cnt)\n",
    "\t\trow, col = free[this]\n",
    "\t\tboard[row][col] = 'X'\n",
    "\n",
    "\n",
    "board = [ [3 * j + i + 1 for i in range(3)] for j in range(3) ] \n",
    "board[1][1] = 'X' # set first 'X' in the middle\n",
    "free = make_list_of_free_fields(board)\n",
    "human_turn = True # which turn is it now?\n",
    "while len(free):\n",
    "\tdisplay_board(board)\n",
    "\tif human_turn:\n",
    "\t\tenter_move(board)\n",
    "\t\tvictor = victory_for(board,'O')\n",
    "\telse:\t\n",
    "\t\tdraw_move(board)\n",
    "\t\tvictor = victory_for(board,'X')\n",
    "\tif victor != None:\n",
    "\t\tbreak\n",
    "\thuman_turn = not human_turn\t\t\n",
    "\tfree = make_list_of_free_fields(board)\n",
    "\n",
    "display_board(board)\n",
    "if victor == 'you':\n",
    "\tprint(\"You won!\")\n",
    "elif victor == 'me':\n",
    "\tprint(\"I won\")\n",
    "else:\n",
    "\tprint(\"Tie!\")"
   ]
  },
  {
   "cell_type": "code",
   "execution_count": null,
   "id": "1c157635-b516-4738-83fe-305ec744e91a",
   "metadata": {},
   "outputs": [],
   "source": []
  }
 ],
 "metadata": {
  "kernelspec": {
   "display_name": "Python 3 (ipykernel)",
   "language": "python",
   "name": "python3"
  },
  "language_info": {
   "codemirror_mode": {
    "name": "ipython",
    "version": 3
   },
   "file_extension": ".py",
   "mimetype": "text/x-python",
   "name": "python",
   "nbconvert_exporter": "python",
   "pygments_lexer": "ipython3",
   "version": "3.12.4"
  }
 },
 "nbformat": 4,
 "nbformat_minor": 5
}
