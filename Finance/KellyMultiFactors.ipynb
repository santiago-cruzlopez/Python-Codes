{
 "cells": [
  {
   "cell_type": "markdown",
   "metadata": {},
   "source": [
    "This program is to get the risk allocation based on correlation between strategies"
   ]
  },
  {
   "cell_type": "code",
   "execution_count": 25,
   "metadata": {},
   "outputs": [
    {
     "name": "stderr",
     "output_type": "stream",
     "text": [
      "/opt/anaconda3/envs/quant/lib/python3.11/site-packages/openpyxl/styles/stylesheet.py:237: UserWarning: Workbook contains no default style, apply openpyxl's default\n",
      "  warn(\"Workbook contains no default style, apply openpyxl's default\")\n"
     ]
    },
    {
     "name": "stdout",
     "output_type": "stream",
     "text": [
      "         Profit   Balance    return\n",
      "Time                               \n",
      "2019-03  102.63  10102.63  0.010263\n",
      "2019-03  -38.30  10064.33 -0.003791\n",
      "2019-03  137.25  10201.58  0.013637\n",
      "2019-03    9.91  10211.49  0.000971\n",
      "2019-03  -24.89  10186.60 -0.002437\n",
      "...         ...       ...       ...\n",
      "2024-10 -146.75  42004.93 -0.003481\n",
      "2024-10    0.00  42004.93  0.000000\n",
      "2024-10 -241.50  41925.13 -0.005749\n",
      "2024-10  -31.44  41893.69 -0.000750\n",
      "2024-10  -70.61  41823.08 -0.001685\n",
      "\n",
      "[1396 rows x 3 columns]\n",
      "Processed data saved to A1-DBG-SP.csv\n"
     ]
    }
   ],
   "source": [
    "#Source: https://www.mql5.com/en/articles/16500?utm_source=mql5.com.tg&utm_medium=message&utm_campaign=articles.codes.repost\n",
    "\n",
    "import pandas as pd\n",
    "# Replace 'your_file.xlsx' with the path to your file\n",
    "input_file = 'DBG-SP.xlsx'\n",
    "# Load the Excel file and skip the first {skiprows} rows\n",
    "data = pd.read_excel(input_file, skiprows=4518)\n",
    "# Select the 'profit' column (assumed to be 'Unnamed: 10') and filter rows as per your instructions\n",
    "data = data[['Time','Profit','Balance']][1:-1] \n",
    "data = data[data.index % 2 == 0]  # Filter for rows with odd indices\n",
    "data[['Profit', 'Balance']] = data[['Profit', 'Balance']].apply(pd.to_numeric, errors='coerce').fillna(0)\n",
    "data['Time'] = pd.to_datetime(data['Time'], errors='coerce')\n",
    "profit_loss = data['Profit']\n",
    "account_balance = data['Balance']\n",
    "#Convert to only showing year and months\n",
    "data = data.set_index('Time',inplace=False,drop=True)\n",
    "data.index = pd.to_datetime(data.index, format='%Y.%m.%d %H:%M:%S')\n",
    "data.index = data.index.strftime('%Y-%m')\n",
    "\n",
    "# Compute the initial account balance before any trades\n",
    "initial_balance = account_balance.iloc[0] - profit_loss.iloc[0]\n",
    "\n",
    "# Calculate the account balance before each trade\n",
    "account_balance_before_trade = account_balance.shift(1)\n",
    "account_balance_before_trade.iloc[0] = initial_balance\n",
    "# Compute the percentage change made to the account balance for each trade\n",
    "percentage_change = profit_loss / account_balance_before_trade\n",
    "# Fill any NaN values that might have occurred\n",
    "percentage_change.fillna(0, inplace=True)\n",
    "percentage_change.index=data.index\n",
    "data['return'] = percentage_change\n",
    "print(data)\n",
    "\n",
    "# Save the processed data to a new CSV file with index\n",
    "output_csv_path = 'A1-DBG-SP.csv'\n",
    "data.to_csv(output_csv_path)\n",
    "print(f\"Processed data saved to {output_csv_path}\")\n"
   ]
  },
  {
   "cell_type": "code",
   "execution_count": null,
   "metadata": {},
   "outputs": [
    {
     "name": "stdout",
     "output_type": "stream",
     "text": [
      "Optimal Kelly Fractions for Each Strategy:\n",
      "         Strategy  Kelly Fraction\n",
      "0  A1-DBG-XAU.csv        0.211095\n",
      "1   A1-DBG-SP.csv        0.682924\n",
      "2   A1-DBG-EU.csv        0.105981\n"
     ]
    }
   ],
   "source": [
    "import pandas as pd\n",
    "import numpy as np\n",
    "import glob\n",
    "\n",
    "def main():\n",
    "    # Get list of strategy CSV files\n",
    "    strategy_files = glob.glob('A1*.csv')\n",
    "    returns_list = []\n",
    "    strategy_names = []\n",
    "    \n",
    "    # Read returns for each strategy\n",
    "    for file in strategy_files:\n",
    "        try:\n",
    "            data = pd.read_csv(file, index_col='Time')\n",
    "            # Ensure 'Time' is parsed correctly as datetime\n",
    "            data.index = pd.to_datetime(data.index, errors='coerce')\n",
    "            \n",
    "            # Drop rows where 'Time' or 'return' is invalid\n",
    "            data.dropna(subset=['return'], inplace=True)\n",
    "            \n",
    "            # Aggregate duplicate time indices by mean (or could use 'sum', but here mean can ignore the trade frequency significance)\n",
    "            data = data.groupby(data.index).agg({'return': 'mean'})\n",
    "            \n",
    "            # Append results\n",
    "            returns_list.append(data['return'])\n",
    "            strategy_names.append(file)\n",
    "        except Exception as e:\n",
    "            print(f\"Error processing {file}: {e}\")\n",
    "            continue\n",
    "    \n",
    "    # Check if any data was successfully loaded\n",
    "    if not returns_list:\n",
    "        print(\"No valid data found in files.\")\n",
    "        return\n",
    "    \n",
    "    # Combine returns into a single DataFrame, aligning by date\n",
    "    returns_df = pd.concat(returns_list, axis=1, keys=strategy_names)\n",
    "    \n",
    "    # Uncomment the below line if u wanna drop rows with missing values across strategies\n",
    "    #returns_df.dropna(inplace=True)\n",
    "    #Uncomment the below line if u wanna just fill unaligned rows with 0( I think this is best for backtest that may have years differences)\n",
    "    returns_df.fillna(0, inplace=True)\n",
    "    \n",
    "    # Calculate expected returns (mean returns)\n",
    "    expected_returns = returns_df.mean()\n",
    "    \n",
    "    # Calculate the covariance matrix of returns\n",
    "    cov_matrix = returns_df.cov()\n",
    "    \n",
    "    # Compute the inverse of the covariance matrix\n",
    "    try:\n",
    "        inv_cov_matrix = np.linalg.inv(cov_matrix.values)\n",
    "    except np.linalg.LinAlgError:\n",
    "        # Use pseudo-inverse if covariance matrix is singular\n",
    "        inv_cov_matrix = np.linalg.pinv(cov_matrix.values)\n",
    "    \n",
    "    # Calculate Kelly optimal fractions\n",
    "    kelly_fractions = inv_cov_matrix @ expected_returns.values\n",
    "    kelly_fractions = kelly_fractions / np.sum(kelly_fractions)\n",
    "\n",
    "    \n",
    "    # Organize results into a DataFrame\n",
    "    kelly_df = pd.DataFrame({\n",
    "        'Strategy': strategy_names,\n",
    "        'Kelly Fraction': kelly_fractions\n",
    "    })\n",
    "    \n",
    "    # Display the optimal allocations\n",
    "    print(\"Optimal Kelly Fractions for Each Strategy:\")\n",
    "    print(kelly_df)\n",
    "\n",
    "if __name__ == \"__main__\":\n",
    "    main()\n",
    "\n"
   ]
  }
 ],
 "metadata": {
  "kernelspec": {
   "display_name": "quant",
   "language": "python",
   "name": "python3"
  },
  "language_info": {
   "codemirror_mode": {
    "name": "ipython",
    "version": 3
   },
   "file_extension": ".py",
   "mimetype": "text/x-python",
   "name": "python",
   "nbconvert_exporter": "python",
   "pygments_lexer": "ipython3",
   "version": "3.11.10"
  }
 },
 "nbformat": 4,
 "nbformat_minor": 2
}
